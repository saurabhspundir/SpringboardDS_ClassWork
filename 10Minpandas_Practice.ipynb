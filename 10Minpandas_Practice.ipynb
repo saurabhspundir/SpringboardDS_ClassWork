{
 "cells": [
  {
   "cell_type": "code",
   "execution_count": 1,
   "metadata": {
    "collapsed": true
   },
   "outputs": [],
   "source": [
    "import pandas as pd\n",
    "import numpy as np\n",
    "import matplotlib as plt"
   ]
  },
  {
   "cell_type": "code",
   "execution_count": 2,
   "metadata": {},
   "outputs": [
    {
     "data": {
      "text/plain": [
       "0     1\n",
       "1     4\n",
       "2     5\n",
       "3     6\n",
       "4    tr\n",
       "dtype: object"
      ]
     },
     "execution_count": 2,
     "metadata": {},
     "output_type": "execute_result"
    }
   ],
   "source": [
    "# series example\n",
    "# series is like single column of table. The series can be created by passing dictonary or array \n",
    "# array series\n",
    "arrSe=[1,4,5,6,'tr']\n",
    "series_array= pd.Series(arrSe)\n",
    "series_array\n"
   ]
  },
  {
   "cell_type": "code",
   "execution_count": 3,
   "metadata": {},
   "outputs": [
    {
     "data": {
      "text/plain": [
       "one       1\n",
       "two       4\n",
       "three     5\n",
       "four      6\n",
       "five     tr\n",
       "dtype: object"
      ]
     },
     "execution_count": 3,
     "metadata": {},
     "output_type": "execute_result"
    }
   ],
   "source": [
    "# the index should alsways match the number of items in array \n",
    "series_array2=pd.Series(arrSe,['one','two','three','four','five'])\n",
    "series_array2"
   ]
  },
  {
   "cell_type": "code",
   "execution_count": 4,
   "metadata": {},
   "outputs": [
    {
     "data": {
      "text/plain": [
       "1     we\n",
       "2    sdf\n",
       "3      1\n",
       "Name: dic series, dtype: object"
      ]
     },
     "execution_count": 4,
     "metadata": {},
     "output_type": "execute_result"
    }
   ],
   "source": [
    "# series with dictonary & name of series\n",
    "dic_ser= {1:\"we\",2:\"sdf\",3:1}\n",
    "series_dic=pd.Series(dic_ser,name=\"dic series\")\n",
    "series_dic"
   ]
  },
  {
   "cell_type": "code",
   "execution_count": 5,
   "metadata": {},
   "outputs": [
    {
     "name": "stdout",
     "output_type": "stream",
     "text": [
      "True\n"
     ]
    },
    {
     "data": {
      "text/plain": [
       "False"
      ]
     },
     "execution_count": 5,
     "metadata": {},
     "output_type": "execute_result"
    }
   ],
   "source": [
    "# find out key(index)\n",
    "print(1 in series_dic)\n",
    "4 in series_array2"
   ]
  },
  {
   "cell_type": "code",
   "execution_count": 6,
   "metadata": {},
   "outputs": [
    {
     "data": {
      "text/html": [
       "<div>\n",
       "<style>\n",
       "    .dataframe thead tr:only-child th {\n",
       "        text-align: right;\n",
       "    }\n",
       "\n",
       "    .dataframe thead th {\n",
       "        text-align: left;\n",
       "    }\n",
       "\n",
       "    .dataframe tbody tr th {\n",
       "        vertical-align: top;\n",
       "    }\n",
       "</style>\n",
       "<table border=\"1\" class=\"dataframe\">\n",
       "  <thead>\n",
       "    <tr style=\"text-align: right;\">\n",
       "      <th></th>\n",
       "      <th>1</th>\n",
       "      <th>2</th>\n",
       "      <th>3</th>\n",
       "      <th>4</th>\n",
       "    </tr>\n",
       "  </thead>\n",
       "  <tbody>\n",
       "    <tr>\n",
       "      <th>a</th>\n",
       "      <td>sa</td>\n",
       "      <td>pu</td>\n",
       "      <td>ay</td>\n",
       "      <td>si</td>\n",
       "    </tr>\n",
       "    <tr>\n",
       "      <th>b</th>\n",
       "      <td>sa</td>\n",
       "      <td>pu</td>\n",
       "      <td>ay</td>\n",
       "      <td>si</td>\n",
       "    </tr>\n",
       "    <tr>\n",
       "      <th>c</th>\n",
       "      <td>sa</td>\n",
       "      <td>pu</td>\n",
       "      <td>ay</td>\n",
       "      <td>si</td>\n",
       "    </tr>\n",
       "    <tr>\n",
       "      <th>d</th>\n",
       "      <td>sa</td>\n",
       "      <td>pu</td>\n",
       "      <td>ay</td>\n",
       "      <td>si</td>\n",
       "    </tr>\n",
       "    <tr>\n",
       "      <th>e</th>\n",
       "      <td>sa</td>\n",
       "      <td>pu</td>\n",
       "      <td>ay</td>\n",
       "      <td>si</td>\n",
       "    </tr>\n",
       "  </tbody>\n",
       "</table>\n",
       "</div>"
      ],
      "text/plain": [
       "    1   2   3   4\n",
       "a  sa  pu  ay  si\n",
       "b  sa  pu  ay  si\n",
       "c  sa  pu  ay  si\n",
       "d  sa  pu  ay  si\n",
       "e  sa  pu  ay  si"
      ]
     },
     "execution_count": 6,
     "metadata": {},
     "output_type": "execute_result"
    }
   ],
   "source": [
    "# data frame is like sql table\n",
    "# with index as rows\n",
    "# columns as columns\n",
    "# from dic\n",
    "dic_df = {1:'sa',2:'pu',3:'ay',4:'si'}\n",
    "ind_dic=index=['a','b','c','d','e']\n",
    "df_dic= pd.DataFrame(dic_df,index=ind_dic)\n",
    "df_dic"
   ]
  },
  {
   "cell_type": "code",
   "execution_count": 7,
   "metadata": {},
   "outputs": [
    {
     "data": {
      "text/html": [
       "<div>\n",
       "<style>\n",
       "    .dataframe thead tr:only-child th {\n",
       "        text-align: right;\n",
       "    }\n",
       "\n",
       "    .dataframe thead th {\n",
       "        text-align: left;\n",
       "    }\n",
       "\n",
       "    .dataframe tbody tr th {\n",
       "        vertical-align: top;\n",
       "    }\n",
       "</style>\n",
       "<table border=\"1\" class=\"dataframe\">\n",
       "  <thead>\n",
       "    <tr style=\"text-align: right;\">\n",
       "      <th></th>\n",
       "      <th>a</th>\n",
       "      <th>b</th>\n",
       "      <th>c</th>\n",
       "      <th>d</th>\n",
       "    </tr>\n",
       "  </thead>\n",
       "  <tbody>\n",
       "    <tr>\n",
       "      <th>2016-01-01</th>\n",
       "      <td>-0.673412</td>\n",
       "      <td>-1.125292</td>\n",
       "      <td>-1.037338</td>\n",
       "      <td>1.695370</td>\n",
       "    </tr>\n",
       "    <tr>\n",
       "      <th>2016-01-02</th>\n",
       "      <td>0.402166</td>\n",
       "      <td>0.583790</td>\n",
       "      <td>-0.269393</td>\n",
       "      <td>-0.502636</td>\n",
       "    </tr>\n",
       "    <tr>\n",
       "      <th>2016-01-03</th>\n",
       "      <td>0.112584</td>\n",
       "      <td>-0.656999</td>\n",
       "      <td>0.500654</td>\n",
       "      <td>-0.424287</td>\n",
       "    </tr>\n",
       "    <tr>\n",
       "      <th>2016-01-04</th>\n",
       "      <td>-0.179417</td>\n",
       "      <td>1.077664</td>\n",
       "      <td>-0.392456</td>\n",
       "      <td>-0.593880</td>\n",
       "    </tr>\n",
       "    <tr>\n",
       "      <th>2016-01-05</th>\n",
       "      <td>-0.139240</td>\n",
       "      <td>-0.047389</td>\n",
       "      <td>0.144753</td>\n",
       "      <td>1.586361</td>\n",
       "    </tr>\n",
       "    <tr>\n",
       "      <th>2016-01-06</th>\n",
       "      <td>-0.180086</td>\n",
       "      <td>0.580328</td>\n",
       "      <td>0.571401</td>\n",
       "      <td>-0.199207</td>\n",
       "    </tr>\n",
       "  </tbody>\n",
       "</table>\n",
       "</div>"
      ],
      "text/plain": [
       "                   a         b         c         d\n",
       "2016-01-01 -0.673412 -1.125292 -1.037338  1.695370\n",
       "2016-01-02  0.402166  0.583790 -0.269393 -0.502636\n",
       "2016-01-03  0.112584 -0.656999  0.500654 -0.424287\n",
       "2016-01-04 -0.179417  1.077664 -0.392456 -0.593880\n",
       "2016-01-05 -0.139240 -0.047389  0.144753  1.586361\n",
       "2016-01-06 -0.180086  0.580328  0.571401 -0.199207"
      ]
     },
     "execution_count": 7,
     "metadata": {},
     "output_type": "execute_result"
    }
   ],
   "source": [
    "# from numpy array\n",
    "# rows id ( index)\n",
    "dates_index = pd.date_range('20160101', periods=6)\n",
    "# create colm values \n",
    "# create rnd number 6 rows 4 columns= 24 dataset\n",
    "rnd_rows=np.random.randn(6,4)\n",
    "# col names\n",
    "name_col=['a','b','c','d']\n",
    "df_dates =pd.DataFrame(rnd_rows, dates_index,name_col)\n",
    "df_dates"
   ]
  },
  {
   "cell_type": "code",
   "execution_count": 8,
   "metadata": {},
   "outputs": [
    {
     "data": {
      "text/html": [
       "<div>\n",
       "<style>\n",
       "    .dataframe thead tr:only-child th {\n",
       "        text-align: right;\n",
       "    }\n",
       "\n",
       "    .dataframe thead th {\n",
       "        text-align: left;\n",
       "    }\n",
       "\n",
       "    .dataframe tbody tr th {\n",
       "        vertical-align: top;\n",
       "    }\n",
       "</style>\n",
       "<table border=\"1\" class=\"dataframe\">\n",
       "  <thead>\n",
       "    <tr style=\"text-align: right;\">\n",
       "      <th></th>\n",
       "      <th>a</th>\n",
       "      <th>b</th>\n",
       "      <th>c</th>\n",
       "      <th>d</th>\n",
       "    </tr>\n",
       "  </thead>\n",
       "  <tbody>\n",
       "    <tr>\n",
       "      <th>2016-01-01</th>\n",
       "      <td>-0.673412</td>\n",
       "      <td>-1.125292</td>\n",
       "      <td>-1.037338</td>\n",
       "      <td>1.695370</td>\n",
       "    </tr>\n",
       "    <tr>\n",
       "      <th>2016-01-02</th>\n",
       "      <td>0.402166</td>\n",
       "      <td>0.583790</td>\n",
       "      <td>-0.269393</td>\n",
       "      <td>-0.502636</td>\n",
       "    </tr>\n",
       "  </tbody>\n",
       "</table>\n",
       "</div>"
      ],
      "text/plain": [
       "                   a         b         c         d\n",
       "2016-01-01 -0.673412 -1.125292 -1.037338  1.695370\n",
       "2016-01-02  0.402166  0.583790 -0.269393 -0.502636"
      ]
     },
     "execution_count": 8,
     "metadata": {},
     "output_type": "execute_result"
    }
   ],
   "source": [
    "# top 2\n",
    "df_dates.head(2)"
   ]
  },
  {
   "cell_type": "code",
   "execution_count": 9,
   "metadata": {},
   "outputs": [
    {
     "data": {
      "text/html": [
       "<div>\n",
       "<style>\n",
       "    .dataframe thead tr:only-child th {\n",
       "        text-align: right;\n",
       "    }\n",
       "\n",
       "    .dataframe thead th {\n",
       "        text-align: left;\n",
       "    }\n",
       "\n",
       "    .dataframe tbody tr th {\n",
       "        vertical-align: top;\n",
       "    }\n",
       "</style>\n",
       "<table border=\"1\" class=\"dataframe\">\n",
       "  <thead>\n",
       "    <tr style=\"text-align: right;\">\n",
       "      <th></th>\n",
       "      <th>a</th>\n",
       "      <th>b</th>\n",
       "      <th>c</th>\n",
       "      <th>d</th>\n",
       "    </tr>\n",
       "  </thead>\n",
       "  <tbody>\n",
       "    <tr>\n",
       "      <th>2016-01-04</th>\n",
       "      <td>-0.179417</td>\n",
       "      <td>1.077664</td>\n",
       "      <td>-0.392456</td>\n",
       "      <td>-0.593880</td>\n",
       "    </tr>\n",
       "    <tr>\n",
       "      <th>2016-01-05</th>\n",
       "      <td>-0.139240</td>\n",
       "      <td>-0.047389</td>\n",
       "      <td>0.144753</td>\n",
       "      <td>1.586361</td>\n",
       "    </tr>\n",
       "    <tr>\n",
       "      <th>2016-01-06</th>\n",
       "      <td>-0.180086</td>\n",
       "      <td>0.580328</td>\n",
       "      <td>0.571401</td>\n",
       "      <td>-0.199207</td>\n",
       "    </tr>\n",
       "  </tbody>\n",
       "</table>\n",
       "</div>"
      ],
      "text/plain": [
       "                   a         b         c         d\n",
       "2016-01-04 -0.179417  1.077664 -0.392456 -0.593880\n",
       "2016-01-05 -0.139240 -0.047389  0.144753  1.586361\n",
       "2016-01-06 -0.180086  0.580328  0.571401 -0.199207"
      ]
     },
     "execution_count": 9,
     "metadata": {},
     "output_type": "execute_result"
    }
   ],
   "source": [
    "# bottom 3\n",
    "df_dates.tail(3)"
   ]
  },
  {
   "cell_type": "code",
   "execution_count": 10,
   "metadata": {},
   "outputs": [
    {
     "data": {
      "text/plain": [
       "array([[-0.67341151, -1.12529222, -1.03733776,  1.69537006],\n",
       "       [ 0.40216583,  0.58378985, -0.26939276, -0.50263649],\n",
       "       [ 0.1125842 , -0.6569994 ,  0.5006541 , -0.42428683],\n",
       "       [-0.17941665,  1.07766434, -0.39245561, -0.59388   ],\n",
       "       [-0.1392396 , -0.04738943,  0.14475304,  1.58636138],\n",
       "       [-0.18008634,  0.58032846,  0.57140055, -0.19920702]])"
      ]
     },
     "execution_count": 10,
     "metadata": {},
     "output_type": "execute_result"
    }
   ],
   "source": [
    "# info about rows key(index)\n",
    "df_dates.index\n",
    "# info about columns\n",
    "df_dates.columns\n",
    "\n",
    "#info abt values\n",
    "df_dates.values\n"
   ]
  },
  {
   "cell_type": "code",
   "execution_count": 11,
   "metadata": {},
   "outputs": [
    {
     "data": {
      "text/html": [
       "<div>\n",
       "<style>\n",
       "    .dataframe thead tr:only-child th {\n",
       "        text-align: right;\n",
       "    }\n",
       "\n",
       "    .dataframe thead th {\n",
       "        text-align: left;\n",
       "    }\n",
       "\n",
       "    .dataframe tbody tr th {\n",
       "        vertical-align: top;\n",
       "    }\n",
       "</style>\n",
       "<table border=\"1\" class=\"dataframe\">\n",
       "  <thead>\n",
       "    <tr style=\"text-align: right;\">\n",
       "      <th></th>\n",
       "      <th>a</th>\n",
       "      <th>b</th>\n",
       "      <th>c</th>\n",
       "      <th>d</th>\n",
       "    </tr>\n",
       "  </thead>\n",
       "  <tbody>\n",
       "    <tr>\n",
       "      <th>count</th>\n",
       "      <td>6.000000</td>\n",
       "      <td>6.000000</td>\n",
       "      <td>6.000000</td>\n",
       "      <td>6.000000</td>\n",
       "    </tr>\n",
       "    <tr>\n",
       "      <th>mean</th>\n",
       "      <td>-0.109567</td>\n",
       "      <td>0.068684</td>\n",
       "      <td>-0.080396</td>\n",
       "      <td>0.260287</td>\n",
       "    </tr>\n",
       "    <tr>\n",
       "      <th>std</th>\n",
       "      <td>0.357736</td>\n",
       "      <td>0.837953</td>\n",
       "      <td>0.610244</td>\n",
       "      <td>1.077902</td>\n",
       "    </tr>\n",
       "    <tr>\n",
       "      <th>min</th>\n",
       "      <td>-0.673412</td>\n",
       "      <td>-1.125292</td>\n",
       "      <td>-1.037338</td>\n",
       "      <td>-0.593880</td>\n",
       "    </tr>\n",
       "    <tr>\n",
       "      <th>25%</th>\n",
       "      <td>-0.179919</td>\n",
       "      <td>-0.504597</td>\n",
       "      <td>-0.361690</td>\n",
       "      <td>-0.483049</td>\n",
       "    </tr>\n",
       "    <tr>\n",
       "      <th>50%</th>\n",
       "      <td>-0.159328</td>\n",
       "      <td>0.266470</td>\n",
       "      <td>-0.062320</td>\n",
       "      <td>-0.311747</td>\n",
       "    </tr>\n",
       "    <tr>\n",
       "      <th>75%</th>\n",
       "      <td>0.049628</td>\n",
       "      <td>0.582925</td>\n",
       "      <td>0.411679</td>\n",
       "      <td>1.139969</td>\n",
       "    </tr>\n",
       "    <tr>\n",
       "      <th>max</th>\n",
       "      <td>0.402166</td>\n",
       "      <td>1.077664</td>\n",
       "      <td>0.571401</td>\n",
       "      <td>1.695370</td>\n",
       "    </tr>\n",
       "  </tbody>\n",
       "</table>\n",
       "</div>"
      ],
      "text/plain": [
       "              a         b         c         d\n",
       "count  6.000000  6.000000  6.000000  6.000000\n",
       "mean  -0.109567  0.068684 -0.080396  0.260287\n",
       "std    0.357736  0.837953  0.610244  1.077902\n",
       "min   -0.673412 -1.125292 -1.037338 -0.593880\n",
       "25%   -0.179919 -0.504597 -0.361690 -0.483049\n",
       "50%   -0.159328  0.266470 -0.062320 -0.311747\n",
       "75%    0.049628  0.582925  0.411679  1.139969\n",
       "max    0.402166  1.077664  0.571401  1.695370"
      ]
     },
     "execution_count": 11,
     "metadata": {},
     "output_type": "execute_result"
    }
   ],
   "source": [
    "# *** very imp****describe : used to see quick stat summary mean , median etc\n",
    "df_dates.describe()"
   ]
  },
  {
   "cell_type": "code",
   "execution_count": 12,
   "metadata": {},
   "outputs": [
    {
     "data": {
      "text/html": [
       "<div>\n",
       "<style>\n",
       "    .dataframe thead tr:only-child th {\n",
       "        text-align: right;\n",
       "    }\n",
       "\n",
       "    .dataframe thead th {\n",
       "        text-align: left;\n",
       "    }\n",
       "\n",
       "    .dataframe tbody tr th {\n",
       "        vertical-align: top;\n",
       "    }\n",
       "</style>\n",
       "<table border=\"1\" class=\"dataframe\">\n",
       "  <thead>\n",
       "    <tr style=\"text-align: right;\">\n",
       "      <th></th>\n",
       "      <th>2016-01-01 00:00:00</th>\n",
       "      <th>2016-01-02 00:00:00</th>\n",
       "      <th>2016-01-03 00:00:00</th>\n",
       "      <th>2016-01-04 00:00:00</th>\n",
       "      <th>2016-01-05 00:00:00</th>\n",
       "      <th>2016-01-06 00:00:00</th>\n",
       "    </tr>\n",
       "  </thead>\n",
       "  <tbody>\n",
       "    <tr>\n",
       "      <th>a</th>\n",
       "      <td>-0.673412</td>\n",
       "      <td>0.402166</td>\n",
       "      <td>0.112584</td>\n",
       "      <td>-0.179417</td>\n",
       "      <td>-0.139240</td>\n",
       "      <td>-0.180086</td>\n",
       "    </tr>\n",
       "    <tr>\n",
       "      <th>b</th>\n",
       "      <td>-1.125292</td>\n",
       "      <td>0.583790</td>\n",
       "      <td>-0.656999</td>\n",
       "      <td>1.077664</td>\n",
       "      <td>-0.047389</td>\n",
       "      <td>0.580328</td>\n",
       "    </tr>\n",
       "    <tr>\n",
       "      <th>c</th>\n",
       "      <td>-1.037338</td>\n",
       "      <td>-0.269393</td>\n",
       "      <td>0.500654</td>\n",
       "      <td>-0.392456</td>\n",
       "      <td>0.144753</td>\n",
       "      <td>0.571401</td>\n",
       "    </tr>\n",
       "    <tr>\n",
       "      <th>d</th>\n",
       "      <td>1.695370</td>\n",
       "      <td>-0.502636</td>\n",
       "      <td>-0.424287</td>\n",
       "      <td>-0.593880</td>\n",
       "      <td>1.586361</td>\n",
       "      <td>-0.199207</td>\n",
       "    </tr>\n",
       "  </tbody>\n",
       "</table>\n",
       "</div>"
      ],
      "text/plain": [
       "   2016-01-01  2016-01-02  2016-01-03  2016-01-04  2016-01-05  2016-01-06\n",
       "a   -0.673412    0.402166    0.112584   -0.179417   -0.139240   -0.180086\n",
       "b   -1.125292    0.583790   -0.656999    1.077664   -0.047389    0.580328\n",
       "c   -1.037338   -0.269393    0.500654   -0.392456    0.144753    0.571401\n",
       "d    1.695370   -0.502636   -0.424287   -0.593880    1.586361   -0.199207"
      ]
     },
     "execution_count": 12,
     "metadata": {},
     "output_type": "execute_result"
    }
   ],
   "source": [
    "# transposing data frame\n",
    "df_dates.T"
   ]
  },
  {
   "cell_type": "code",
   "execution_count": 13,
   "metadata": {},
   "outputs": [
    {
     "data": {
      "text/html": [
       "<div>\n",
       "<style>\n",
       "    .dataframe thead tr:only-child th {\n",
       "        text-align: right;\n",
       "    }\n",
       "\n",
       "    .dataframe thead th {\n",
       "        text-align: left;\n",
       "    }\n",
       "\n",
       "    .dataframe tbody tr th {\n",
       "        vertical-align: top;\n",
       "    }\n",
       "</style>\n",
       "<table border=\"1\" class=\"dataframe\">\n",
       "  <thead>\n",
       "    <tr style=\"text-align: right;\">\n",
       "      <th></th>\n",
       "      <th>a</th>\n",
       "      <th>b</th>\n",
       "      <th>c</th>\n",
       "      <th>d</th>\n",
       "    </tr>\n",
       "  </thead>\n",
       "  <tbody>\n",
       "    <tr>\n",
       "      <th>2016-01-06</th>\n",
       "      <td>-0.180086</td>\n",
       "      <td>0.580328</td>\n",
       "      <td>0.571401</td>\n",
       "      <td>-0.199207</td>\n",
       "    </tr>\n",
       "    <tr>\n",
       "      <th>2016-01-03</th>\n",
       "      <td>0.112584</td>\n",
       "      <td>-0.656999</td>\n",
       "      <td>0.500654</td>\n",
       "      <td>-0.424287</td>\n",
       "    </tr>\n",
       "    <tr>\n",
       "      <th>2016-01-05</th>\n",
       "      <td>-0.139240</td>\n",
       "      <td>-0.047389</td>\n",
       "      <td>0.144753</td>\n",
       "      <td>1.586361</td>\n",
       "    </tr>\n",
       "    <tr>\n",
       "      <th>2016-01-02</th>\n",
       "      <td>0.402166</td>\n",
       "      <td>0.583790</td>\n",
       "      <td>-0.269393</td>\n",
       "      <td>-0.502636</td>\n",
       "    </tr>\n",
       "    <tr>\n",
       "      <th>2016-01-04</th>\n",
       "      <td>-0.179417</td>\n",
       "      <td>1.077664</td>\n",
       "      <td>-0.392456</td>\n",
       "      <td>-0.593880</td>\n",
       "    </tr>\n",
       "    <tr>\n",
       "      <th>2016-01-01</th>\n",
       "      <td>-0.673412</td>\n",
       "      <td>-1.125292</td>\n",
       "      <td>-1.037338</td>\n",
       "      <td>1.695370</td>\n",
       "    </tr>\n",
       "  </tbody>\n",
       "</table>\n",
       "</div>"
      ],
      "text/plain": [
       "                   a         b         c         d\n",
       "2016-01-06 -0.180086  0.580328  0.571401 -0.199207\n",
       "2016-01-03  0.112584 -0.656999  0.500654 -0.424287\n",
       "2016-01-05 -0.139240 -0.047389  0.144753  1.586361\n",
       "2016-01-02  0.402166  0.583790 -0.269393 -0.502636\n",
       "2016-01-04 -0.179417  1.077664 -0.392456 -0.593880\n",
       "2016-01-01 -0.673412 -1.125292 -1.037338  1.695370"
      ]
     },
     "execution_count": 13,
     "metadata": {},
     "output_type": "execute_result"
    }
   ],
   "source": [
    "# sorting by index\n",
    "df_dates.sort_index(axis=1,ascending=True)\n",
    "# sorting by column, by =column name\n",
    "df_dates.sort_values(by='c',ascending=False)"
   ]
  },
  {
   "cell_type": "code",
   "execution_count": 14,
   "metadata": {},
   "outputs": [
    {
     "data": {
      "text/html": [
       "<div>\n",
       "<style>\n",
       "    .dataframe thead tr:only-child th {\n",
       "        text-align: right;\n",
       "    }\n",
       "\n",
       "    .dataframe thead th {\n",
       "        text-align: left;\n",
       "    }\n",
       "\n",
       "    .dataframe tbody tr th {\n",
       "        vertical-align: top;\n",
       "    }\n",
       "</style>\n",
       "<table border=\"1\" class=\"dataframe\">\n",
       "  <thead>\n",
       "    <tr style=\"text-align: right;\">\n",
       "      <th></th>\n",
       "      <th>a</th>\n",
       "      <th>b</th>\n",
       "      <th>c</th>\n",
       "      <th>d</th>\n",
       "    </tr>\n",
       "  </thead>\n",
       "  <tbody>\n",
       "    <tr>\n",
       "      <th>2016-01-03</th>\n",
       "      <td>0.112584</td>\n",
       "      <td>-0.656999</td>\n",
       "      <td>0.500654</td>\n",
       "      <td>-0.424287</td>\n",
       "    </tr>\n",
       "    <tr>\n",
       "      <th>2016-01-04</th>\n",
       "      <td>-0.179417</td>\n",
       "      <td>1.077664</td>\n",
       "      <td>-0.392456</td>\n",
       "      <td>-0.593880</td>\n",
       "    </tr>\n",
       "    <tr>\n",
       "      <th>2016-01-05</th>\n",
       "      <td>-0.139240</td>\n",
       "      <td>-0.047389</td>\n",
       "      <td>0.144753</td>\n",
       "      <td>1.586361</td>\n",
       "    </tr>\n",
       "    <tr>\n",
       "      <th>2016-01-06</th>\n",
       "      <td>-0.180086</td>\n",
       "      <td>0.580328</td>\n",
       "      <td>0.571401</td>\n",
       "      <td>-0.199207</td>\n",
       "    </tr>\n",
       "  </tbody>\n",
       "</table>\n",
       "</div>"
      ],
      "text/plain": [
       "                   a         b         c         d\n",
       "2016-01-03  0.112584 -0.656999  0.500654 -0.424287\n",
       "2016-01-04 -0.179417  1.077664 -0.392456 -0.593880\n",
       "2016-01-05 -0.139240 -0.047389  0.144753  1.586361\n",
       "2016-01-06 -0.180086  0.580328  0.571401 -0.199207"
      ]
     },
     "execution_count": 14,
     "metadata": {},
     "output_type": "execute_result"
    }
   ],
   "source": [
    "# selecting one column from data frame\n",
    "df_dates.a\n",
    "# or select by slicing row by [] \n",
    "#df_dates['b']\n",
    "\n",
    "# slicing by row number as range from 1 to 3 (**not include***). so return row 1 and 2\n",
    "df_dates[1:3]\n",
    "\n",
    "# slcing by row unique or whatever present row range\n",
    "df_dates['2016-01-03':'2016-02-04']\n",
    "\n"
   ]
  },
  {
   "cell_type": "code",
   "execution_count": 15,
   "metadata": {},
   "outputs": [
    {
     "data": {
      "text/plain": [
       "a   -0.673412\n",
       "b   -1.125292\n",
       "c   -1.037338\n",
       "d    1.695370\n",
       "Name: 2016-01-01 00:00:00, dtype: float64"
      ]
     },
     "execution_count": 15,
     "metadata": {},
     "output_type": "execute_result"
    }
   ],
   "source": [
    "# selecting by label (loc) selecting single row, all column\n",
    "df_dates.loc['20160101']"
   ]
  },
  {
   "cell_type": "code",
   "execution_count": 16,
   "metadata": {},
   "outputs": [
    {
     "data": {
      "text/plain": [
       "a    0.112584\n",
       "b   -0.656999\n",
       "Name: 2016-01-03 00:00:00, dtype: float64"
      ]
     },
     "execution_count": 16,
     "metadata": {},
     "output_type": "execute_result"
    }
   ],
   "source": [
    "# selecting by label (loc) selecting all row, all row , slec column\n",
    "df_dates.loc[:,['a','b']]\n",
    "\n",
    "# selecting by label (loc) selecting particular row(*** both inclusive), all row , slec column\n",
    "df_dates.loc['20160101':'20160103',['a','b']]\n",
    "\n",
    "\n",
    "# selecting by label (loc) selecting 1 row , slec column\n",
    "df_dates.loc['20160103',['a','b']]"
   ]
  },
  {
   "cell_type": "code",
   "execution_count": 17,
   "metadata": {},
   "outputs": [
    {
     "data": {
      "text/plain": [
       "-0.67341150626216506"
      ]
     },
     "execution_count": 17,
     "metadata": {},
     "output_type": "execute_result"
    }
   ],
   "source": [
    "\n",
    "# selecting by label (loc) selecting particular row and column\n",
    "df_dates.loc['20160101','a']\n",
    "\n",
    "# **** selecting by at ( ** it is faster) selecting particular row and column\n",
    "# error in running .look later\n",
    "#df_dates.at[1,'b']\n"
   ]
  },
  {
   "cell_type": "code",
   "execution_count": 18,
   "metadata": {},
   "outputs": [
    {
     "data": {
      "text/plain": [
       "-0.50263648510098968"
      ]
     },
     "execution_count": 18,
     "metadata": {},
     "output_type": "execute_result"
    }
   ],
   "source": [
    "# select by position , selecting 1 row\n",
    "df_dates.iloc[1]\n",
    "# select by position , selecting range of rows (1:3) and col (2:5)\n",
    "df_dates.iloc[1:3,2:5]\n",
    "# select by position , selecting specific of rows (2,3,4) and col (1,2,3)\n",
    "df_dates.iloc[[2,3,4],[1,2,3]]\n",
    "\n",
    "# select by position , selecting all rows  and specific col \n",
    "df_dates.iloc[:,1:3]\n",
    "\n",
    "\n",
    "# select by position , selecting all  col and specific  rows\n",
    "df_dates.iloc[1:3,:]\n",
    "\n",
    "# select by position , particlau col and row\n",
    "#df_dates.iloc[1,3]\n",
    "\n",
    "# select by position , usinh iat (** faster)\n",
    "df_dates.iat[1,3]\n",
    "\n"
   ]
  },
  {
   "cell_type": "code",
   "execution_count": 19,
   "metadata": {},
   "outputs": [
    {
     "data": {
      "text/html": [
       "<div>\n",
       "<style>\n",
       "    .dataframe thead tr:only-child th {\n",
       "        text-align: right;\n",
       "    }\n",
       "\n",
       "    .dataframe thead th {\n",
       "        text-align: left;\n",
       "    }\n",
       "\n",
       "    .dataframe tbody tr th {\n",
       "        vertical-align: top;\n",
       "    }\n",
       "</style>\n",
       "<table border=\"1\" class=\"dataframe\">\n",
       "  <thead>\n",
       "    <tr style=\"text-align: right;\">\n",
       "      <th></th>\n",
       "      <th>a</th>\n",
       "      <th>b</th>\n",
       "      <th>c</th>\n",
       "      <th>d</th>\n",
       "    </tr>\n",
       "  </thead>\n",
       "  <tbody>\n",
       "    <tr>\n",
       "      <th>2016-01-03</th>\n",
       "      <td>0.112584</td>\n",
       "      <td>-0.656999</td>\n",
       "      <td>0.500654</td>\n",
       "      <td>-0.424287</td>\n",
       "    </tr>\n",
       "    <tr>\n",
       "      <th>2016-01-05</th>\n",
       "      <td>-0.139240</td>\n",
       "      <td>-0.047389</td>\n",
       "      <td>0.144753</td>\n",
       "      <td>1.586361</td>\n",
       "    </tr>\n",
       "    <tr>\n",
       "      <th>2016-01-06</th>\n",
       "      <td>-0.180086</td>\n",
       "      <td>0.580328</td>\n",
       "      <td>0.571401</td>\n",
       "      <td>-0.199207</td>\n",
       "    </tr>\n",
       "  </tbody>\n",
       "</table>\n",
       "</div>"
      ],
      "text/plain": [
       "                   a         b         c         d\n",
       "2016-01-03  0.112584 -0.656999  0.500654 -0.424287\n",
       "2016-01-05 -0.139240 -0.047389  0.144753  1.586361\n",
       "2016-01-06 -0.180086  0.580328  0.571401 -0.199207"
      ]
     },
     "execution_count": 19,
     "metadata": {},
     "output_type": "execute_result"
    }
   ],
   "source": [
    "# filtering using condition.** its like where in sql. using whole daat set\n",
    "df_dates[df_dates>0]\n",
    "\n",
    "# filtering using condition.** its like where in sql. using on column. \n",
    "df_dates[df_dates.c>0]"
   ]
  },
  {
   "cell_type": "code",
   "execution_count": 20,
   "metadata": {},
   "outputs": [
    {
     "data": {
      "text/html": [
       "<div>\n",
       "<style>\n",
       "    .dataframe thead tr:only-child th {\n",
       "        text-align: right;\n",
       "    }\n",
       "\n",
       "    .dataframe thead th {\n",
       "        text-align: left;\n",
       "    }\n",
       "\n",
       "    .dataframe tbody tr th {\n",
       "        vertical-align: top;\n",
       "    }\n",
       "</style>\n",
       "<table border=\"1\" class=\"dataframe\">\n",
       "  <thead>\n",
       "    <tr style=\"text-align: right;\">\n",
       "      <th></th>\n",
       "      <th>a</th>\n",
       "      <th>b</th>\n",
       "      <th>c</th>\n",
       "      <th>d</th>\n",
       "      <th>E</th>\n",
       "    </tr>\n",
       "  </thead>\n",
       "  <tbody>\n",
       "    <tr>\n",
       "      <th>2016-01-03</th>\n",
       "      <td>0.112584</td>\n",
       "      <td>-0.656999</td>\n",
       "      <td>0.500654</td>\n",
       "      <td>-0.424287</td>\n",
       "      <td>two</td>\n",
       "    </tr>\n",
       "    <tr>\n",
       "      <th>2016-01-05</th>\n",
       "      <td>-0.139240</td>\n",
       "      <td>-0.047389</td>\n",
       "      <td>0.144753</td>\n",
       "      <td>1.586361</td>\n",
       "      <td>four</td>\n",
       "    </tr>\n",
       "  </tbody>\n",
       "</table>\n",
       "</div>"
      ],
      "text/plain": [
       "                   a         b         c         d     E\n",
       "2016-01-03  0.112584 -0.656999  0.500654 -0.424287   two\n",
       "2016-01-05 -0.139240 -0.047389  0.144753  1.586361  four"
      ]
     },
     "execution_count": 20,
     "metadata": {},
     "output_type": "execute_result"
    }
   ],
   "source": [
    "df2=df_dates\n",
    "df2['E'] = ['one', 'one','two','three','four','three']\n",
    "# is in method\n",
    "df2[df2['E'].isin(['two','four'])]"
   ]
  },
  {
   "cell_type": "code",
   "execution_count": 21,
   "metadata": {},
   "outputs": [],
   "source": [
    "# setting value. check the number of entries matches number of rows\n",
    "df2['f']=[1,2,3,4,5,6]\n",
    "\n",
    "# setting value. using at with name\n",
    "df2.at['2016-01-04','b']=123\n",
    "\n",
    "# setting value. using iat with name\n",
    "df2.iat[2,4]=456\n"
   ]
  },
  {
   "cell_type": "code",
   "execution_count": 22,
   "metadata": {},
   "outputs": [],
   "source": [
    "# missing data \n",
    "# create new columns\n",
    "#df2 =df_dates.copy()\n",
    "df2=df_dates.reindex(index=[1,2,3,4], columns=list(df_dates.columns) + ['G'])\n",
    "# set some value\n",
    "#df2.loc[1:2,'a':'E']=1\n",
    "df2.loc[1:2,:]=1"
   ]
  },
  {
   "cell_type": "code",
   "execution_count": 23,
   "metadata": {},
   "outputs": [
    {
     "data": {
      "text/html": [
       "<div>\n",
       "<style>\n",
       "    .dataframe thead tr:only-child th {\n",
       "        text-align: right;\n",
       "    }\n",
       "\n",
       "    .dataframe thead th {\n",
       "        text-align: left;\n",
       "    }\n",
       "\n",
       "    .dataframe tbody tr th {\n",
       "        vertical-align: top;\n",
       "    }\n",
       "</style>\n",
       "<table border=\"1\" class=\"dataframe\">\n",
       "  <thead>\n",
       "    <tr style=\"text-align: right;\">\n",
       "      <th></th>\n",
       "      <th>a</th>\n",
       "      <th>b</th>\n",
       "      <th>c</th>\n",
       "      <th>d</th>\n",
       "      <th>E</th>\n",
       "      <th>f</th>\n",
       "      <th>G</th>\n",
       "    </tr>\n",
       "  </thead>\n",
       "  <tbody>\n",
       "    <tr>\n",
       "      <th>1</th>\n",
       "      <td>False</td>\n",
       "      <td>False</td>\n",
       "      <td>False</td>\n",
       "      <td>False</td>\n",
       "      <td>False</td>\n",
       "      <td>False</td>\n",
       "      <td>False</td>\n",
       "    </tr>\n",
       "    <tr>\n",
       "      <th>2</th>\n",
       "      <td>False</td>\n",
       "      <td>False</td>\n",
       "      <td>False</td>\n",
       "      <td>False</td>\n",
       "      <td>False</td>\n",
       "      <td>False</td>\n",
       "      <td>False</td>\n",
       "    </tr>\n",
       "    <tr>\n",
       "      <th>3</th>\n",
       "      <td>True</td>\n",
       "      <td>True</td>\n",
       "      <td>True</td>\n",
       "      <td>True</td>\n",
       "      <td>True</td>\n",
       "      <td>True</td>\n",
       "      <td>True</td>\n",
       "    </tr>\n",
       "    <tr>\n",
       "      <th>4</th>\n",
       "      <td>True</td>\n",
       "      <td>True</td>\n",
       "      <td>True</td>\n",
       "      <td>True</td>\n",
       "      <td>True</td>\n",
       "      <td>True</td>\n",
       "      <td>True</td>\n",
       "    </tr>\n",
       "  </tbody>\n",
       "</table>\n",
       "</div>"
      ],
      "text/plain": [
       "       a      b      c      d      E      f      G\n",
       "1  False  False  False  False  False  False  False\n",
       "2  False  False  False  False  False  False  False\n",
       "3   True   True   True   True   True   True   True\n",
       "4   True   True   True   True   True   True   True"
      ]
     },
     "execution_count": 23,
     "metadata": {},
     "output_type": "execute_result"
    }
   ],
   "source": [
    "# drop na out . show onky rows wheer nocolumn in NA\n",
    "#df2.dropna(how='any')\n",
    "# fill values for NA. but seems only for display , not into real data frame\n",
    "#df2.fillna(value='3')\n",
    "# gives boolean outut for data frame for null value check \n",
    "df2.isnull()"
   ]
  },
  {
   "cell_type": "code",
   "execution_count": 24,
   "metadata": {},
   "outputs": [
    {
     "data": {
      "text/plain": [
       "2016-01-01    -0.028134\n",
       "2016-01-02     0.442785\n",
       "2016-01-03     0.506390\n",
       "2016-01-04    25.166850\n",
       "2016-01-05     1.308897\n",
       "2016-01-06     1.354487\n",
       "Freq: D, dtype: float64"
      ]
     },
     "execution_count": 24,
     "metadata": {},
     "output_type": "execute_result"
    }
   ],
   "source": [
    "# stat opetion\n",
    "df_dates.mean()\n",
    "df_dates.mean(1)"
   ]
  },
  {
   "cell_type": "code",
   "execution_count": 33,
   "metadata": {},
   "outputs": [
    {
     "data": {
      "text/plain": [
       "a    0.0\n",
       "b    0.0\n",
       "c    0.0\n",
       "d    0.0\n",
       "E    0.0\n",
       "f    0.0\n",
       "G    0.0\n",
       "dtype: float64"
      ]
     },
     "execution_count": 33,
     "metadata": {},
     "output_type": "execute_result"
    }
   ],
   "source": [
    "#Applying function to data\n",
    "#df2.apply(np.cumsum)\n",
    "# applying lambda functionon data \n",
    "df2.apply(lambda x:x.mean()-x.max())\n"
   ]
  },
  {
   "cell_type": "code",
   "execution_count": 34,
   "metadata": {},
   "outputs": [
    {
     "data": {
      "text/plain": [
       " 0.112584    1\n",
       "-0.673412    1\n",
       "-0.180086    1\n",
       " 0.402166    1\n",
       "-0.179417    1\n",
       "-0.139240    1\n",
       "Name: a, dtype: int64"
      ]
     },
     "execution_count": 34,
     "metadata": {},
     "output_type": "execute_result"
    }
   ],
   "source": [
    "# counting number of value lime group by and count in sql\n",
    "df_dates.a.value_counts()"
   ]
  },
  {
   "cell_type": "code",
   "execution_count": 35,
   "metadata": {
    "collapsed": true
   },
   "outputs": [],
   "source": [
    "# string menthods\n",
    "series_str =pd.Series(['A', 'B', 'C', 'Aaba', 'Baca', np.nan, 'CABA', 'dog', 'cat','',' The course is ok'])\n"
   ]
  },
  {
   "cell_type": "code",
   "execution_count": 36,
   "metadata": {},
   "outputs": [
    {
     "data": {
      "text/plain": [
       "0                     a\n",
       "1                     b\n",
       "2                     c\n",
       "3                  aaba\n",
       "4                  baca\n",
       "5                   NaN\n",
       "6                  caba\n",
       "7                   dog\n",
       "8                   cat\n",
       "9                      \n",
       "10     the course is ok\n",
       "dtype: object"
      ]
     },
     "execution_count": 36,
     "metadata": {},
     "output_type": "execute_result"
    }
   ],
   "source": [
    "# all elemenet lower case\n",
    "series_str.str.lower()"
   ]
  },
  {
   "cell_type": "code",
   "execution_count": 37,
   "metadata": {},
   "outputs": [
    {
     "data": {
      "text/html": [
       "<div>\n",
       "<style>\n",
       "    .dataframe thead tr:only-child th {\n",
       "        text-align: right;\n",
       "    }\n",
       "\n",
       "    .dataframe thead th {\n",
       "        text-align: left;\n",
       "    }\n",
       "\n",
       "    .dataframe tbody tr th {\n",
       "        vertical-align: top;\n",
       "    }\n",
       "</style>\n",
       "<table border=\"1\" class=\"dataframe\">\n",
       "  <thead>\n",
       "    <tr style=\"text-align: right;\">\n",
       "      <th></th>\n",
       "      <th>id</th>\n",
       "      <th>lval</th>\n",
       "    </tr>\n",
       "  </thead>\n",
       "  <tbody>\n",
       "    <tr>\n",
       "      <th>0</th>\n",
       "      <td>a</td>\n",
       "      <td>11</td>\n",
       "    </tr>\n",
       "    <tr>\n",
       "      <th>1</th>\n",
       "      <td>a</td>\n",
       "      <td>12</td>\n",
       "    </tr>\n",
       "    <tr>\n",
       "      <th>2</th>\n",
       "      <td>a</td>\n",
       "      <td>13</td>\n",
       "    </tr>\n",
       "  </tbody>\n",
       "</table>\n",
       "</div>"
      ],
      "text/plain": [
       "  id  lval\n",
       "0  a    11\n",
       "1  a    12\n",
       "2  a    13"
      ]
     },
     "execution_count": 37,
     "metadata": {},
     "output_type": "execute_result"
    }
   ],
   "source": [
    "# join in data frame\n",
    "# make the data frame with commomh id value and 1 col different\n",
    "dic_left= {'id':['a','a'],'lval':[1,2]}\n",
    "left_df = pd.DataFrame(dic_left)\n",
    "#dic_right= {'id':['a','a','b'],'lval':[11,12,13]}\n",
    "dic_right= {'id':['a','a','a'],'lval':[11,12,13]}\n",
    "right_df = pd.DataFrame(dic_right)\n",
    "right_df\n"
   ]
  },
  {
   "cell_type": "code",
   "execution_count": 38,
   "metadata": {},
   "outputs": [
    {
     "data": {
      "text/html": [
       "<div>\n",
       "<style>\n",
       "    .dataframe thead tr:only-child th {\n",
       "        text-align: right;\n",
       "    }\n",
       "\n",
       "    .dataframe thead th {\n",
       "        text-align: left;\n",
       "    }\n",
       "\n",
       "    .dataframe tbody tr th {\n",
       "        vertical-align: top;\n",
       "    }\n",
       "</style>\n",
       "<table border=\"1\" class=\"dataframe\">\n",
       "  <thead>\n",
       "    <tr style=\"text-align: right;\">\n",
       "      <th></th>\n",
       "      <th>id</th>\n",
       "      <th>lval_x</th>\n",
       "      <th>lval_y</th>\n",
       "    </tr>\n",
       "  </thead>\n",
       "  <tbody>\n",
       "    <tr>\n",
       "      <th>0</th>\n",
       "      <td>a</td>\n",
       "      <td>11</td>\n",
       "      <td>1</td>\n",
       "    </tr>\n",
       "    <tr>\n",
       "      <th>1</th>\n",
       "      <td>a</td>\n",
       "      <td>11</td>\n",
       "      <td>2</td>\n",
       "    </tr>\n",
       "    <tr>\n",
       "      <th>2</th>\n",
       "      <td>a</td>\n",
       "      <td>12</td>\n",
       "      <td>1</td>\n",
       "    </tr>\n",
       "    <tr>\n",
       "      <th>3</th>\n",
       "      <td>a</td>\n",
       "      <td>12</td>\n",
       "      <td>2</td>\n",
       "    </tr>\n",
       "    <tr>\n",
       "      <th>4</th>\n",
       "      <td>a</td>\n",
       "      <td>13</td>\n",
       "      <td>1</td>\n",
       "    </tr>\n",
       "    <tr>\n",
       "      <th>5</th>\n",
       "      <td>a</td>\n",
       "      <td>13</td>\n",
       "      <td>2</td>\n",
       "    </tr>\n",
       "  </tbody>\n",
       "</table>\n",
       "</div>"
      ],
      "text/plain": [
       "  id  lval_x  lval_y\n",
       "0  a      11       1\n",
       "1  a      11       2\n",
       "2  a      12       1\n",
       "3  a      12       2\n",
       "4  a      13       1\n",
       "5  a      13       2"
      ]
     },
     "execution_count": 38,
     "metadata": {},
     "output_type": "execute_result"
    }
   ],
   "source": [
    "# merge the tables. see the diff in below output. above change right to see diff how only commong key gets merged\n",
    "#pd.merge(left_df,right_df,on='id')\n",
    "#pd.merge(right_df,left_df,on='id')\n",
    "# another way to merge\n",
    "right_df.merge(left_df,on='id')"
   ]
  },
  {
   "cell_type": "code",
   "execution_count": 39,
   "metadata": {},
   "outputs": [
    {
     "data": {
      "text/html": [
       "<div>\n",
       "<style>\n",
       "    .dataframe thead tr:only-child th {\n",
       "        text-align: right;\n",
       "    }\n",
       "\n",
       "    .dataframe thead th {\n",
       "        text-align: left;\n",
       "    }\n",
       "\n",
       "    .dataframe tbody tr th {\n",
       "        vertical-align: top;\n",
       "    }\n",
       "</style>\n",
       "<table border=\"1\" class=\"dataframe\">\n",
       "  <thead>\n",
       "    <tr style=\"text-align: right;\">\n",
       "      <th></th>\n",
       "      <th>a</th>\n",
       "      <th>b</th>\n",
       "      <th>c</th>\n",
       "      <th>d</th>\n",
       "      <th>E</th>\n",
       "      <th>f</th>\n",
       "    </tr>\n",
       "  </thead>\n",
       "  <tbody>\n",
       "    <tr>\n",
       "      <th>2016-01-01</th>\n",
       "      <td>-0.673412</td>\n",
       "      <td>-1.125292</td>\n",
       "      <td>-1.037338</td>\n",
       "      <td>1.695370</td>\n",
       "      <td>one</td>\n",
       "      <td>1</td>\n",
       "    </tr>\n",
       "    <tr>\n",
       "      <th>2016-01-02</th>\n",
       "      <td>0.402166</td>\n",
       "      <td>0.583790</td>\n",
       "      <td>-0.269393</td>\n",
       "      <td>-0.502636</td>\n",
       "      <td>one</td>\n",
       "      <td>2</td>\n",
       "    </tr>\n",
       "    <tr>\n",
       "      <th>2016-01-03</th>\n",
       "      <td>0.112584</td>\n",
       "      <td>-0.656999</td>\n",
       "      <td>0.500654</td>\n",
       "      <td>-0.424287</td>\n",
       "      <td>456</td>\n",
       "      <td>3</td>\n",
       "    </tr>\n",
       "    <tr>\n",
       "      <th>2016-01-04</th>\n",
       "      <td>-0.179417</td>\n",
       "      <td>123.000000</td>\n",
       "      <td>-0.392456</td>\n",
       "      <td>-0.593880</td>\n",
       "      <td>three</td>\n",
       "      <td>4</td>\n",
       "    </tr>\n",
       "    <tr>\n",
       "      <th>2016-01-05</th>\n",
       "      <td>-0.139240</td>\n",
       "      <td>-0.047389</td>\n",
       "      <td>0.144753</td>\n",
       "      <td>1.586361</td>\n",
       "      <td>four</td>\n",
       "      <td>5</td>\n",
       "    </tr>\n",
       "    <tr>\n",
       "      <th>2016-01-06</th>\n",
       "      <td>-0.180086</td>\n",
       "      <td>0.580328</td>\n",
       "      <td>0.571401</td>\n",
       "      <td>-0.199207</td>\n",
       "      <td>three</td>\n",
       "      <td>6</td>\n",
       "    </tr>\n",
       "  </tbody>\n",
       "</table>\n",
       "</div>"
      ],
      "text/plain": [
       "                   a           b         c         d      E  f\n",
       "2016-01-01 -0.673412   -1.125292 -1.037338  1.695370    one  1\n",
       "2016-01-02  0.402166    0.583790 -0.269393 -0.502636    one  2\n",
       "2016-01-03  0.112584   -0.656999  0.500654 -0.424287    456  3\n",
       "2016-01-04 -0.179417  123.000000 -0.392456 -0.593880  three  4\n",
       "2016-01-05 -0.139240   -0.047389  0.144753  1.586361   four  5\n",
       "2016-01-06 -0.180086    0.580328  0.571401 -0.199207  three  6"
      ]
     },
     "execution_count": 39,
     "metadata": {},
     "output_type": "execute_result"
    }
   ],
   "source": [
    "# concat the new row in the data frame\n",
    "df3=df_dates.copy()\n",
    "#newrow = {'2017-01-01': np.random.randn(1,4)}\n",
    "newrow = pd.Series({'2017-01-01': np.random.randn(1,4)})\n",
    "# ignore_indes is very important\n",
    "df3.append(newrow,ignore_index=True)\n",
    "df3\n"
   ]
  },
  {
   "cell_type": "code",
   "execution_count": 40,
   "metadata": {},
   "outputs": [
    {
     "data": {
      "text/plain": [
       "A    B    \n",
       "bar  one     -0.528042\n",
       "     three   -0.508842\n",
       "     two     -0.650807\n",
       "foo  one      0.341852\n",
       "     three    0.441233\n",
       "     two     -1.483849\n",
       "Name: C, dtype: float64"
      ]
     },
     "execution_count": 40,
     "metadata": {},
     "output_type": "execute_result"
    }
   ],
   "source": [
    "# GROUPING OF DATA FRAME ** VERY IMPORTANT\n",
    "df_grp=  pd.DataFrame({'A' : ['foo', 'bar', 'foo', 'bar','foo', 'bar', 'foo', 'foo'],\n",
    "                       'B' : ['one', 'one', 'two', 'three', 'two', 'two', 'one', 'three'],\n",
    "                       'C' : np.random.randn(8),\n",
    "                       'D' : np.random.randn(8)})\n",
    "# sum by col like sql group by A , sum C & D only **** may be B is text so no sum\n",
    "#df_grp.groupby('A').sum()\n",
    "\n",
    "# sum by col like sql group by A and B and sum C & D \n",
    "#df_grp.groupby(['A','B']).sum()\n",
    "# group by A and B for C only \n",
    "df_grp.groupby(['A','B'])['C'].sum()"
   ]
  },
  {
   "cell_type": "code",
   "execution_count": 41,
   "metadata": {},
   "outputs": [
    {
     "data": {
      "text/html": [
       "<div>\n",
       "<style>\n",
       "    .dataframe thead tr:only-child th {\n",
       "        text-align: right;\n",
       "    }\n",
       "\n",
       "    .dataframe thead th {\n",
       "        text-align: left;\n",
       "    }\n",
       "\n",
       "    .dataframe tbody tr th {\n",
       "        vertical-align: top;\n",
       "    }\n",
       "</style>\n",
       "<table border=\"1\" class=\"dataframe\">\n",
       "  <thead>\n",
       "    <tr style=\"text-align: right;\">\n",
       "      <th></th>\n",
       "      <th></th>\n",
       "      <th>A</th>\n",
       "      <th>B</th>\n",
       "    </tr>\n",
       "    <tr>\n",
       "      <th>first</th>\n",
       "      <th>second</th>\n",
       "      <th></th>\n",
       "      <th></th>\n",
       "    </tr>\n",
       "  </thead>\n",
       "  <tbody>\n",
       "    <tr>\n",
       "      <th rowspan=\"2\" valign=\"top\">bar</th>\n",
       "      <th>one</th>\n",
       "      <td>-0.316948</td>\n",
       "      <td>0.753970</td>\n",
       "    </tr>\n",
       "    <tr>\n",
       "      <th>two</th>\n",
       "      <td>1.459891</td>\n",
       "      <td>-1.669469</td>\n",
       "    </tr>\n",
       "    <tr>\n",
       "      <th rowspan=\"2\" valign=\"top\">baz</th>\n",
       "      <th>one</th>\n",
       "      <td>-0.594116</td>\n",
       "      <td>-0.639254</td>\n",
       "    </tr>\n",
       "    <tr>\n",
       "      <th>two</th>\n",
       "      <td>0.639038</td>\n",
       "      <td>-0.169983</td>\n",
       "    </tr>\n",
       "    <tr>\n",
       "      <th rowspan=\"2\" valign=\"top\">foo</th>\n",
       "      <th>one</th>\n",
       "      <td>-1.170811</td>\n",
       "      <td>-0.773663</td>\n",
       "    </tr>\n",
       "    <tr>\n",
       "      <th>two</th>\n",
       "      <td>0.183803</td>\n",
       "      <td>-0.258516</td>\n",
       "    </tr>\n",
       "    <tr>\n",
       "      <th rowspan=\"2\" valign=\"top\">qux</th>\n",
       "      <th>one</th>\n",
       "      <td>-0.952416</td>\n",
       "      <td>-0.841561</td>\n",
       "    </tr>\n",
       "    <tr>\n",
       "      <th>two</th>\n",
       "      <td>0.416598</td>\n",
       "      <td>-1.479962</td>\n",
       "    </tr>\n",
       "  </tbody>\n",
       "</table>\n",
       "</div>"
      ],
      "text/plain": [
       "                     A         B\n",
       "first second                    \n",
       "bar   one    -0.316948  0.753970\n",
       "      two     1.459891 -1.669469\n",
       "baz   one    -0.594116 -0.639254\n",
       "      two     0.639038 -0.169983\n",
       "foo   one    -1.170811 -0.773663\n",
       "      two     0.183803 -0.258516\n",
       "qux   one    -0.952416 -0.841561\n",
       "      two     0.416598 -1.479962"
      ]
     },
     "execution_count": 41,
     "metadata": {},
     "output_type": "execute_result"
    }
   ],
   "source": [
    "# stack\n",
    "tuples = list(zip(*[['bar', 'bar', 'baz', 'baz','foo', 'foo', 'qux', 'qux'],\n",
    "   ['one', 'two', 'one', 'two','one', 'two', 'one', 'two']]))\n",
    "index = pd.MultiIndex.from_tuples(tuples, names=['first', 'second'])\n",
    "df = pd.DataFrame(np.random.randn(8, 2), index=index, columns=['A', 'B'])\n",
    "df"
   ]
  },
  {
   "cell_type": "code",
   "execution_count": 42,
   "metadata": {},
   "outputs": [
    {
     "data": {
      "text/plain": [
       "first  second   \n",
       "bar    one     A   -0.316948\n",
       "               B    0.753970\n",
       "       two     A    1.459891\n",
       "               B   -1.669469\n",
       "baz    one     A   -0.594116\n",
       "               B   -0.639254\n",
       "       two     A    0.639038\n",
       "               B   -0.169983\n",
       "foo    one     A   -1.170811\n",
       "               B   -0.773663\n",
       "       two     A    0.183803\n",
       "               B   -0.258516\n",
       "qux    one     A   -0.952416\n",
       "               B   -0.841561\n",
       "       two     A    0.416598\n",
       "               B   -1.479962\n",
       "dtype: float64"
      ]
     },
     "execution_count": 42,
     "metadata": {},
     "output_type": "execute_result"
    }
   ],
   "source": [
    "# convert column value in row ...?\n",
    "stacked=df.stack()\n",
    "stacked\n",
    "# un stack as dataframe again\n",
    "#unstacked = stacked.unstack()\n",
    "#unstacked"
   ]
  },
  {
   "cell_type": "code",
   "execution_count": 43,
   "metadata": {},
   "outputs": [
    {
     "data": {
      "text/html": [
       "<div>\n",
       "<style>\n",
       "    .dataframe thead tr:only-child th {\n",
       "        text-align: right;\n",
       "    }\n",
       "\n",
       "    .dataframe thead th {\n",
       "        text-align: left;\n",
       "    }\n",
       "\n",
       "    .dataframe tbody tr th {\n",
       "        vertical-align: top;\n",
       "    }\n",
       "</style>\n",
       "<table border=\"1\" class=\"dataframe\">\n",
       "  <thead>\n",
       "    <tr style=\"text-align: right;\">\n",
       "      <th>B</th>\n",
       "      <th>one</th>\n",
       "      <th>three</th>\n",
       "      <th>two</th>\n",
       "    </tr>\n",
       "    <tr>\n",
       "      <th>A</th>\n",
       "      <th></th>\n",
       "      <th></th>\n",
       "      <th></th>\n",
       "    </tr>\n",
       "  </thead>\n",
       "  <tbody>\n",
       "    <tr>\n",
       "      <th>bar</th>\n",
       "      <td>-0.528042</td>\n",
       "      <td>-0.508842</td>\n",
       "      <td>-0.650807</td>\n",
       "    </tr>\n",
       "    <tr>\n",
       "      <th>foo</th>\n",
       "      <td>0.170926</td>\n",
       "      <td>0.441233</td>\n",
       "      <td>-0.741924</td>\n",
       "    </tr>\n",
       "  </tbody>\n",
       "</table>\n",
       "</div>"
      ],
      "text/plain": [
       "B         one     three       two\n",
       "A                                \n",
       "bar -0.528042 -0.508842 -0.650807\n",
       "foo  0.170926  0.441233 -0.741924"
      ]
     },
     "execution_count": 43,
     "metadata": {},
     "output_type": "execute_result"
    }
   ],
   "source": [
    "# pivot table , first is name of data froame, values is column to pivot, index=row label in excel, columns in column label of excel\n",
    "pd.pivot_table(df_grp,values='C',index=['A'],columns=['B'])\n",
    "#df_grp"
   ]
  },
  {
   "cell_type": "code",
   "execution_count": 44,
   "metadata": {},
   "outputs": [
    {
     "data": {
      "text/plain": [
       "2012-01-01    25207\n",
       "Freq: 10T, dtype: int32"
      ]
     },
     "execution_count": 44,
     "metadata": {},
     "output_type": "execute_result"
    }
   ],
   "source": [
    "# time range, start date , period count and freq= type of period , S is seconds, D is day, M is month\n",
    "trng = pd.date_range('1/1/2012', periods=100, freq='S')\n",
    "# sample create series\n",
    "ts = pd.Series(np.random.randint(0, 500, len(trng)), index=trng)\n",
    "ts.resample('10min').sum()"
   ]
  },
  {
   "cell_type": "code",
   "execution_count": 45,
   "metadata": {},
   "outputs": [
    {
     "data": {
      "text/html": [
       "<div>\n",
       "<style>\n",
       "    .dataframe thead tr:only-child th {\n",
       "        text-align: right;\n",
       "    }\n",
       "\n",
       "    .dataframe thead th {\n",
       "        text-align: left;\n",
       "    }\n",
       "\n",
       "    .dataframe tbody tr th {\n",
       "        vertical-align: top;\n",
       "    }\n",
       "</style>\n",
       "<table border=\"1\" class=\"dataframe\">\n",
       "  <thead>\n",
       "    <tr style=\"text-align: right;\">\n",
       "      <th></th>\n",
       "      <th>id</th>\n",
       "    </tr>\n",
       "    <tr>\n",
       "      <th>catval</th>\n",
       "      <th></th>\n",
       "    </tr>\n",
       "  </thead>\n",
       "  <tbody>\n",
       "    <tr>\n",
       "      <th>very good</th>\n",
       "      <td>10</td>\n",
       "    </tr>\n",
       "    <tr>\n",
       "      <th>good</th>\n",
       "      <td>5</td>\n",
       "    </tr>\n",
       "    <tr>\n",
       "      <th>bad</th>\n",
       "      <td>6</td>\n",
       "    </tr>\n",
       "  </tbody>\n",
       "</table>\n",
       "</div>"
      ],
      "text/plain": [
       "           id\n",
       "catval       \n",
       "very good  10\n",
       "good        5\n",
       "bad         6"
      ]
     },
     "execution_count": 45,
     "metadata": {},
     "output_type": "execute_result"
    }
   ],
   "source": [
    "# category. make category \n",
    "df_category = pd.DataFrame({\"id\":[1,2,3,4,5,6], \"raw_grade\":['a', 'b', 'b', 'a', 'a', 'e']})\n",
    "df_category\n",
    "# making category d\n",
    "d= df_category[\"raw_grade\"].astype('category')\n",
    "#d= df_category[\"id\"].astype('category')\n",
    "# assign category some values\n",
    "d.cat.categories=['very good','good','bad']\n",
    "# assign more cat values\n",
    "d.cat.set_categories([\"very bad\", \"bad\", \"medium\", \"good\", \"very good\"])\n",
    "#print(d)\n",
    "\n",
    "# putting category in data frame\n",
    "df_category['catval']=d\n",
    "\n",
    "# sort by category\n",
    "df_category.sort_values('catval')\n",
    "\n",
    "# group y category\n",
    "df_category.groupby('catval').sum()\n"
   ]
  },
  {
   "cell_type": "code",
   "execution_count": 46,
   "metadata": {},
   "outputs": [],
   "source": [
    "#pd.date_range.__doc__\n",
    "#help(pd.date_range)\n",
    "#help(np.random.rand)"
   ]
  }
 ],
 "metadata": {
  "kernelspec": {
   "display_name": "Python 3",
   "language": "python",
   "name": "python3"
  },
  "language_info": {
   "codemirror_mode": {
    "name": "ipython",
    "version": 3
   },
   "file_extension": ".py",
   "mimetype": "text/x-python",
   "name": "python",
   "nbconvert_exporter": "python",
   "pygments_lexer": "ipython3",
   "version": "3.6.1"
  }
 },
 "nbformat": 4,
 "nbformat_minor": 2
}
